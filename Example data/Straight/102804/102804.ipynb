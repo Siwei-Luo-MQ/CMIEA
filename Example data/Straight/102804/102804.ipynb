{
 "cells": [
  {
   "cell_type": "code",
   "execution_count": 1,
   "id": "f6c37bec-e972-4bde-a0d8-afcb2398d733",
   "metadata": {},
   "outputs": [
    {
     "name": "stderr",
     "output_type": "stream",
     "text": [
      "\u001b[38;20m[INFO] Environment: MetaDriveEnv\u001b[0m\n",
      "\u001b[38;20m[INFO] MetaDrive version: 0.4.2.3\u001b[0m\n",
      "\u001b[38;20m[INFO] Sensors: [lidar: Lidar(), side_detector: SideDetector(), lane_line_detector: LaneLineDetector(), main_camera: MainCamera(1200, 900), dashboard: DashBoard()]\u001b[0m\n",
      "\u001b[38;20m[INFO] Render Mode: onscreen\u001b[0m\n",
      "\u001b[38;20m[INFO] Horizon (Max steps per agent): None\u001b[0m\n",
      "\u001b[33;20m[WARNING] When reaching max steps, both 'terminate' and 'truncate will be True.Generally, only the `truncate` should be `True`. (base_env.py:390)\u001b[0m\n",
      "\u001b[38;20m[INFO] Assets version: 0.4.2.3\u001b[0m\n",
      "\u001b[38;20m[INFO] Known Pipes: wglGraphicsPipe\u001b[0m\n",
      "\u001b[38;20m[INFO] Start Scenario Index: 0, Num Scenarios : 1\u001b[0m\n"
     ]
    },
    {
     "ename": "NameError",
     "evalue": "name 'info' is not defined",
     "output_type": "error",
     "traceback": [
      "\u001b[1;31m---------------------------------------------------------------------------\u001b[0m",
      "\u001b[1;31mNameError\u001b[0m                                 Traceback (most recent call last)",
      "Cell \u001b[1;32mIn[1], line 68\u001b[0m\n\u001b[0;32m     60\u001b[0m     frame\u001b[38;5;241m=\u001b[39menv\u001b[38;5;241m.\u001b[39mrender(mode\u001b[38;5;241m=\u001b[39m\u001b[38;5;124m\"\u001b[39m\u001b[38;5;124mtopdown\u001b[39m\u001b[38;5;124m\"\u001b[39m, \n\u001b[0;32m     61\u001b[0m                      window\u001b[38;5;241m=\u001b[39m\u001b[38;5;28;01mFalse\u001b[39;00m,\n\u001b[0;32m     62\u001b[0m                      screen_size\u001b[38;5;241m=\u001b[39m(\u001b[38;5;241m800\u001b[39m, \u001b[38;5;241m400\u001b[39m),\n\u001b[0;32m     63\u001b[0m                      draw_target_vehicle_trajectory\u001b[38;5;241m=\u001b[39m\u001b[38;5;28;01mTrue\u001b[39;00m,\n\u001b[0;32m     64\u001b[0m                      scaling\u001b[38;5;241m=\u001b[39m\u001b[38;5;241m4\u001b[39m,\n\u001b[0;32m     65\u001b[0m                      camera_position\u001b[38;5;241m=\u001b[39m(\u001b[38;5;241m50\u001b[39m,\u001b[38;5;241m0\u001b[39m))\n\u001b[0;32m     66\u001b[0m     frames\u001b[38;5;241m.\u001b[39mappend(frame)\n\u001b[1;32m---> 68\u001b[0m     \u001b[38;5;28;01mif\u001b[39;00m \u001b[43minfo\u001b[49m[\u001b[38;5;124m'\u001b[39m\u001b[38;5;124mcrash\u001b[39m\u001b[38;5;124m'\u001b[39m]:\n\u001b[0;32m     69\u001b[0m         \u001b[38;5;28;01mbreak\u001b[39;00m\n\u001b[0;32m     70\u001b[0m generate_gif(frames, gif_name\u001b[38;5;241m=\u001b[39m\u001b[38;5;124m\"\u001b[39m\u001b[38;5;124m102804.gif\u001b[39m\u001b[38;5;124m\"\u001b[39m)\n",
      "\u001b[1;31mNameError\u001b[0m: name 'info' is not defined"
     ]
    }
   ],
   "source": [
    "from metadrive.envs.metadrive_env import MetaDriveEnv\n",
    "from metadrive.component.vehicle.vehicle_type import DefaultVehicle\n",
    "from metadrive.utils import generate_gif\n",
    "from metadrive.policy.idm_policy import IDMPolicy, TrajectoryIDMPolicy\n",
    "from metadrive.policy.expert_policy import ExpertPolicy\n",
    "from metadrive.utils.draw_top_down_map import draw_top_down_map\n",
    "import matplotlib.pyplot as plt\n",
    "from metadrive.component.lane.straight_lane import StraightLane\n",
    "from metadrive.scenario.parse_object_state import parse_object_state, get_idm_route, get_max_valid_indicis\n",
    "\n",
    "scenario_config = {'map_config': {'type': 'block_sequence', \n",
    "                                  'config': 'S', \n",
    "                                  'lane_width': 3, \n",
    "                                  'lane_num': 2, \n",
    "                                  'start_position': [0, 0],\n",
    "                                 },\n",
    "                   'traffic_density':0,\n",
    "                   'vehicle_config':{\n",
    "                                    'spawn_position_heading': [[0,0],0],\n",
    "                   },\n",
    "                   'use_render': True,\n",
    "                   \"truncate_as_terminate\":True,\n",
    "                   \"crash_vehicle_done\": True,\n",
    "                  }\n",
    "\n",
    "env=MetaDriveEnv(scenario_config)\n",
    "frames = []\n",
    "\n",
    "\n",
    "ego_traj = get_idm_route([[5, 1.5], [20, 1.5]])\n",
    "npc_traj = get_idm_route([[20, 2],[20, 2],[20, 2],[20, 2]])\n",
    "\n",
    "# ego_traj = get_idm_route([[0, 0], [10, 0], [40, 0]])\n",
    "# npc_traj = get_idm_route([[40, 0], [10, 0],[0, 0]])\n",
    "\n",
    "try:\n",
    "    env.reset()\n",
    "    cfg=env.config[\"vehicle_config\"]\n",
    "    cfg[\"navigation\"]=None # it doesn't need navigation system\n",
    "    \n",
    "    npc = env.engine.spawn_object(DefaultVehicle, \n",
    "                                vehicle_config=cfg, \n",
    "                                position=[20,2], \n",
    "                                heading=0)\n",
    "\n",
    "    # npc = env.engine.spawn_object(DefaultVehicle, \n",
    "    #                             vehicle_config=cfg, \n",
    "    #                             position=[40,0], \n",
    "    #                             heading=3.14)\n",
    "    \n",
    "    env.engine.add_policy(npc.id, TrajectoryIDMPolicy, npc, env.engine.generate_seed(), ego_traj)\n",
    "    env.engine.add_policy(env.agent.id, TrajectoryIDMPolicy, env.agent, env.engine.generate_seed(), ego_traj)\n",
    "    \n",
    "    for _ in range(100):\n",
    "        # npc.before_step([0, 0])\n",
    "        # p = env.engine.get_policy(npc.name)\n",
    "        # npc.before_step(p.act(True))\n",
    "        # _,r,_,_,info = env.step([0,0])\n",
    "        env.step([0,0])\n",
    "        frame=env.render(mode=\"topdown\", \n",
    "                         window=False,\n",
    "                         screen_size=(800, 400),\n",
    "                         draw_target_vehicle_trajectory=True,\n",
    "                         scaling=4,\n",
    "                         camera_position=(50,0))\n",
    "        frames.append(frame)\n",
    "\n",
    "        if info['crash']:\n",
    "            break\n",
    "    generate_gif(frames, gif_name=\"102804.gif\")\n",
    "finally:\n",
    "    env.close()\n",
    "\n",
    "from IPython.display import Image\n",
    "Image(open(\"102804.gif\", \"rb\").read())"
   ]
  },
  {
   "cell_type": "code",
   "execution_count": null,
   "id": "80ce83e9-1213-4bd9-bb6d-e6721dbea231",
   "metadata": {},
   "outputs": [],
   "source": []
  }
 ],
 "metadata": {
  "kernelspec": {
   "display_name": "Python 3 (ipykernel)",
   "language": "python",
   "name": "python3"
  },
  "language_info": {
   "codemirror_mode": {
    "name": "ipython",
    "version": 3
   },
   "file_extension": ".py",
   "mimetype": "text/x-python",
   "name": "python",
   "nbconvert_exporter": "python",
   "pygments_lexer": "ipython3",
   "version": "3.9.19"
  }
 },
 "nbformat": 4,
 "nbformat_minor": 5
}
